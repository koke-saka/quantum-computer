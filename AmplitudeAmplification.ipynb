{
 "cells": [
  {
   "cell_type": "markdown",
   "metadata": {},
   "source": [
    "## Theorem3"
   ]
  },
  {
   "cell_type": "code",
   "execution_count": 3,
   "metadata": {},
   "outputs": [],
   "source": [
    "import numpy as np\n",
    "import math\n",
    "import matplotlib.pyplot as plt"
   ]
  },
  {
   "cell_type": "code",
   "execution_count": 69,
   "metadata": {},
   "outputs": [
    {
     "data": {
      "text/plain": [
       "248"
      ]
     },
     "execution_count": 69,
     "metadata": {},
     "output_type": "execute_result"
    }
   ],
   "source": [
    "c = 1.5\n",
    "l = 0\n",
    "a = 0.00001\n",
    "theta = np.arcsin(np.sqrt(a))\n",
    "m = math.floor(math.pi/(4*theta))\n",
    "m"
   ]
  },
  {
   "cell_type": "code",
   "execution_count": 70,
   "metadata": {},
   "outputs": [
    {
     "data": {
      "text/plain": [
       "[<matplotlib.lines.Line2D at 0x7faf8f2b7908>]"
      ]
     },
     "execution_count": 70,
     "metadata": {},
     "output_type": "execute_result"
    },
    {
     "data": {
      "image/png": "[encoded data removed]",
      "text/plain": [
       "<Figure size 432x288 with 1 Axes>"
      ]
     },
     "metadata": {},
     "output_type": "display_data"
    }
   ],
   "source": [
    "x = np.arange(m+1)\n",
    "prob = np.array([(np.sin((2*j+1)*theta))**2 for j in x])\n",
    "plt.plot(x,prob)"
   ]
  },
  {
   "cell_type": "code",
   "execution_count": null,
   "metadata": {},
   "outputs": [],
   "source": []
  },
  {
   "cell_type": "code",
   "execution_count": 73,
   "metadata": {},
   "outputs": [],
   "source": [
    "def one_step(M,a,theta):\n",
    "    #3\n",
    "    if np.random.rand()<a:\n",
    "        return True,1\n",
    "    #5\n",
    "    j = np.random.randint(1,M+1) \n",
    "    \n",
    "    #6,7\n",
    "    prob = (np.sin((2*j+1)*theta))**2\n",
    "    #print(prob)\n",
    "    if np.random.rand()<prob:\n",
    "        return True, 1+j\n",
    "    \n",
    "    return False,1+j"
   ]
  },
  {
   "cell_type": "code",
   "execution_count": 57,
   "metadata": {},
   "outputs": [
    {
     "name": "stdout",
     "output_type": "stream",
     "text": [
      "0.676\n"
     ]
    },
    {
     "data": {
      "text/plain": [
       "(False, 2)"
      ]
     },
     "execution_count": 57,
     "metadata": {},
     "output_type": "execute_result"
    }
   ],
   "source": [
    "one_step(1,a,theta)"
   ]
  },
  {
   "cell_type": "code",
   "execution_count": 131,
   "metadata": {},
   "outputs": [],
   "source": [
    "def trail(a,theta):\n",
    "    total_num = 0\n",
    "    for i in range(1000):\n",
    "        M = math.ceil(c**i)\n",
    "        f,num = one_step(M,a,theta)\n",
    "        total_num += num\n",
    "        if f:\n",
    "            return total_num,True\n",
    "    return total_num,False"
   ]
  },
  {
   "cell_type": "code",
   "execution_count": 128,
   "metadata": {},
   "outputs": [],
   "source": [
    "num_list= []\n",
    "for i in range(1000):\n",
    "    num,f = trail(a)\n",
    "    num_list.append(num)\n",
    "    if f is False:\n",
    "        print('Fail')"
   ]
  },
  {
   "cell_type": "code",
   "execution_count": 94,
   "metadata": {},
   "outputs": [],
   "source": [
    "num_list = np.array(num_list)"
   ]
  },
  {
   "cell_type": "code",
   "execution_count": 95,
   "metadata": {},
   "outputs": [
    {
     "data": {
      "text/plain": [
       "457.469"
      ]
     },
     "execution_count": 95,
     "metadata": {},
     "output_type": "execute_result"
    }
   ],
   "source": [
    "num_list.mean()"
   ]
  },
  {
   "cell_type": "code",
   "execution_count": null,
   "metadata": {},
   "outputs": [],
   "source": []
  },
  {
   "cell_type": "code",
   "execution_count": 140,
   "metadata": {},
   "outputs": [],
   "source": [
    "a_list = [0.1**(i+1) for i in range(10)]\n",
    "a_list = np.array(a_list)\n",
    "query_classic = 1/a_list\n",
    "#plt.plot(np.log10(query_classic))"
   ]
  },
  {
   "cell_type": "code",
   "execution_count": 141,
   "metadata": {},
   "outputs": [
    {
     "data": {
      "text/plain": [
       "array([ 1.,  2.,  3.,  4.,  5.,  6.,  7.,  8.,  9., 10.])"
      ]
     },
     "execution_count": 141,
     "metadata": {},
     "output_type": "execute_result"
    }
   ],
   "source": [
    "np.log10(query_classic)"
   ]
  },
  {
   "cell_type": "code",
   "execution_count": null,
   "metadata": {},
   "outputs": [],
   "source": []
  },
  {
   "cell_type": "code",
   "execution_count": 142,
   "metadata": {},
   "outputs": [
    {
     "name": "stdout",
     "output_type": "stream",
     "text": [
      "a:0.1 query:2.73\n",
      "a:0.010000000000000002 query:11.967\n",
      "a:0.0010000000000000002 query:48.725\n",
      "a:0.00010000000000000002 query:141.206\n",
      "a:1.0000000000000003e-05 query:448.518\n",
      "a:1.0000000000000004e-06 query:1412.734\n",
      "a:1.0000000000000004e-07 query:4338.878\n",
      "a:1.0000000000000005e-08 query:13715.102\n",
      "a:1.0000000000000005e-09 query:58014.016\n",
      "a:1.0000000000000006e-10 query:139131.121\n"
     ]
    }
   ],
   "source": [
    "query_quantum = np.empty(0)\n",
    "for a in a_list:\n",
    "    sum_query = 0\n",
    "    theta = np.arcsin(np.sqrt(a))\n",
    "    for i in range(1000):\n",
    "        num,f = trail(a,theta)\n",
    "        sum_query += num\n",
    "        if f is False:\n",
    "            print('Fail')\n",
    "    ave = sum_query/1000\n",
    "    print(f'a:{a} query:{ave}')\n",
    "    query_quantum = np.append(query_quantum,ave)"
   ]
  },
  {
   "cell_type": "code",
   "execution_count": 143,
   "metadata": {},
   "outputs": [
    {
     "data": {
      "text/plain": [
       "[<matplotlib.lines.Line2D at 0x7faf8ed9bdd8>]"
      ]
     },
     "execution_count": 143,
     "metadata": {},
     "output_type": "execute_result"
    },
    {
     "data": {
      "image/png": "[encoded data removed]",
      "text/plain": [
       "<Figure size 432x288 with 1 Axes>"
      ]
     },
     "metadata": {},
     "output_type": "display_data"
    }
   ],
   "source": [
    "plt.plot(np.log10(query_classic),np.log10(query_quantum))"
   ]
  },
  {
   "cell_type": "markdown",
   "metadata": {},
   "source": [
    "### The intuition behind the algorithm"
   ]
  },
  {
   "cell_type": "code",
   "execution_count": 108,
   "metadata": {},
   "outputs": [],
   "source": [
    "list_y_2 = np.empty(0)"
   ]
  },
  {
   "cell_type": "code",
   "execution_count": 115,
   "metadata": {},
   "outputs": [],
   "source": [
    "for i in range(10000):\n",
    "    a = np.random.randint(1,10000)\n",
    "    theta = np.random.rand()\n",
    "    y = np.sin(a*theta)\n",
    "    list_y_2 = np.append(list_y_2,y**2)"
   ]
  },
  {
   "cell_type": "code",
   "execution_count": 116,
   "metadata": {},
   "outputs": [
    {
     "data": {
      "text/plain": [
       "0.498687052168056"
      ]
     },
     "execution_count": 116,
     "metadata": {},
     "output_type": "execute_result"
    }
   ],
   "source": [
    "list_y_2.mean()"
   ]
  },
  {
   "cell_type": "code",
   "execution_count": 117,
   "metadata": {},
   "outputs": [
    {
     "data": {
      "text/plain": [
       "(array([4394., 1910., 1522., 1354., 1347., 1314., 1409., 1514., 1923.,\n",
       "        4313.]),\n",
       " array([7.64406770e-09, 1.00000007e-01, 2.00000006e-01, 3.00000005e-01,\n",
       "        4.00000004e-01, 5.00000003e-01, 6.00000002e-01, 7.00000001e-01,\n",
       "        8.00000000e-01, 9.00000000e-01, 9.99999999e-01]),\n",
       " <a list of 10 Patch objects>)"
      ]
     },
     "execution_count": 117,
     "metadata": {},
     "output_type": "execute_result"
    },
    {
     "data": {
      "image/png": "[encoded data removed]",
      "text/plain": [
       "<Figure size 432x288 with 1 Axes>"
      ]
     },
     "metadata": {},
     "output_type": "display_data"
    }
   ],
   "source": [
    "plt.hist(list_y_2)"
   ]
  },
  {
   "cell_type": "code",
   "execution_count": null,
   "metadata": {},
   "outputs": [],
   "source": []
  }
 ],
 "metadata": {
  "kernelspec": {
   "display_name": "Python 3",
   "language": "python",
   "name": "python3"
  },
  "language_info": {
   "codemirror_mode": {
    "name": "ipython",
    "version": 3
   },
   "file_extension": ".py",
   "mimetype": "text/x-python",
   "name": "python",
   "nbconvert_exporter": "python",
   "pygments_lexer": "ipython3",
   "version": "3.6.6"
  }
 },
 "nbformat": 4,
 "nbformat_minor": 2
}
