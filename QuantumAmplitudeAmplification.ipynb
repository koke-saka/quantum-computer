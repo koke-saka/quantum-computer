{
 "cells": [
  {
   "cell_type": "markdown",
   "metadata": {},
   "source": [
    "Quantum amplitude amplification and estimation\n",
    "[arxiv](https://arxiv.org/abs/quant-ph/0005055)\n",
    "のTheorem3の確認\n",
    "\n",
    "説明\n",
    "[Qiita](https://qiita.com/koke-saka/items/16b20edfeca49e1049cd)"
   ]
  },
  {
   "cell_type": "code",
   "execution_count": 1,
   "metadata": {},
   "outputs": [],
   "source": [
    "import numpy as np\n",
    "import math\n",
    "import matplotlib.pyplot as plt"
   ]
  },
  {
   "cell_type": "code",
   "execution_count": 2,
   "metadata": {},
   "outputs": [],
   "source": [
    "def one_step(M,a,theta):\n",
    "    if np.random.rand()<a:\n",
    "        return True,1\n",
    "    j = np.random.randint(1,M+1) \n",
    "    prob = (np.sin((2*j+1)*theta))**2\n",
    "    if np.random.rand()<prob:\n",
    "        return True, 2+2*j\n",
    "    return False,2+2*j"
   ]
  },
  {
   "cell_type": "code",
   "execution_count": 3,
   "metadata": {},
   "outputs": [],
   "source": [
    "def trial(a,theta):\n",
    "    c = 1.5\n",
    "    total_num = 0\n",
    "    for i in range(1000):\n",
    "        M = math.ceil(c**i)\n",
    "        f,num = one_step(M,a,theta)\n",
    "        total_num += num\n",
    "        if f:\n",
    "            return total_num,True\n",
    "    return total_num,False"
   ]
  },
  {
   "cell_type": "code",
   "execution_count": 8,
   "metadata": {},
   "outputs": [
    {
     "name": "stdout",
     "output_type": "stream",
     "text": [
      "a:0.1 query:5.413\n",
      "a:0.010000000000000002 query:24.187\n",
      "a:0.0010000000000000002 query:89.713\n",
      "a:0.00010000000000000002 query:306.212\n",
      "a:1.0000000000000003e-05 query:1034.892\n",
      "a:1.0000000000000004e-06 query:2858.658\n",
      "a:1.0000000000000004e-07 query:8607.834\n",
      "a:1.0000000000000005e-08 query:30541.386\n",
      "a:1.0000000000000005e-09 query:88135.102\n",
      "a:1.0000000000000006e-10 query:270865.7\n",
      "a:1.0000000000000006e-11 query:1063522.0\n",
      "a:1.0000000000000006e-12 query:2900836.75\n",
      "a:1.0000000000000007e-13 query:9489230.94\n",
      "a:1.0000000000000008e-14 query:28441395.188\n",
      "a:1.0000000000000009e-15 query:96687611.558\n",
      "a:1.0000000000000008e-16 query:297801564.54\n",
      "a:1.000000000000001e-17 query:909133809.306\n",
      "a:1.000000000000001e-18 query:2929018286.87\n",
      "a:1.000000000000001e-19 query:9190470981.674\n",
      "a:1.0000000000000011e-20 query:28857005972.174\n",
      "a:1.0000000000000012e-21 query:92389329854.128\n",
      "a:1.0000000000000012e-22 query:267216730063.598\n",
      "a:1.0000000000000013e-23 query:914262134996.78\n",
      "a:1.0000000000000014e-24 query:2974120734077.8\n",
      "a:1.0000000000000014e-25 query:9133013766349.646\n",
      "a:1.0000000000000015e-26 query:33241735383246.05\n",
      "a:1.0000000000000015e-27 query:84685700435645.42\n",
      "a:1.0000000000000015e-28 query:292234933100927.2\n",
      "a:1.0000000000000016e-29 query:921158714595432.4\n",
      "a:1.0000000000000017e-30 query:2958379406362651.5\n"
     ]
    }
   ],
   "source": [
    "a_list = [0.1**(i+1) for i in range(30)]\n",
    "a_list = np.array(a_list)\n",
    "query_classic = 1/a_list\n",
    "query_quantum = np.empty(0)\n",
    "for a in a_list:\n",
    "    sum_query = 0\n",
    "    theta = np.arcsin(np.sqrt(a))\n",
    "    for i in range(1000):\n",
    "        num,f = trial(a,theta)\n",
    "        sum_query += num\n",
    "        if f is False:\n",
    "            print('Fail')\n",
    "    ave = sum_query/1000\n",
    "    print(f'a:{a} query:{ave}')\n",
    "    query_quantum = np.append(query_quantum,ave)"
   ]
  },
  {
   "cell_type": "code",
   "execution_count": 9,
   "metadata": {},
   "outputs": [
    {
     "data": {
      "image/png": "[encoded data removed]",
      "text/plain": [
       "<Figure size 432x288 with 1 Axes>"
      ]
     },
     "metadata": {},
     "output_type": "display_data"
    }
   ],
   "source": [
    "plt.plot(np.log10(query_classic),np.log10(query_quantum))\n",
    "plt.xlabel('classical')\n",
    "plt.ylabel('quantum')\n",
    "#plt.show()\n",
    "plt.savefig('fig1.png')"
   ]
  },
  {
   "cell_type": "code",
   "execution_count": null,
   "metadata": {},
   "outputs": [],
   "source": []
  }
 ],
 "metadata": {
  "kernelspec": {
   "display_name": "Python 3",
   "language": "python",
   "name": "python3"
  },
  "language_info": {
   "codemirror_mode": {
    "name": "ipython",
    "version": 3
   },
   "file_extension": ".py",
   "mimetype": "text/x-python",
   "name": "python",
   "nbconvert_exporter": "python",
   "pygments_lexer": "ipython3",
   "version": "3.6.6"
  }
 },
 "nbformat": 4,
 "nbformat_minor": 2
}
