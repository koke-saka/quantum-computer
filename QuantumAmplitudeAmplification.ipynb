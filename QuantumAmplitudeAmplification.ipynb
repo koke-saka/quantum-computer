{
 "cells": [
  {
   "cell_type": "markdown",
   "metadata": {},
   "source": [
    "Quantum amplitude amplification and estimation\n",
    "[arxiv](https://arxiv.org/abs/quant-ph/0005055)\n",
    "のTheorem3の確認\n",
    "\n",
    "説明\n",
    "[Qiita](https://qiita.com/koke-saka/items/16b20edfeca49e1049cd)"
   ]
  },
  {
   "cell_type": "code",
   "execution_count": 1,
   "metadata": {},
   "outputs": [],
   "source": [
    "import numpy as np\n",
    "import math\n",
    "import matplotlib.pyplot as plt"
   ]
  },
  {
   "cell_type": "code",
   "execution_count": 2,
   "metadata": {},
   "outputs": [],
   "source": [
    "def one_step(M,a,theta):\n",
    "    if np.random.rand()<a:\n",
    "        return True,1\n",
    "    j = np.random.randint(1,M+1) \n",
    "    prob = (np.sin((2*j+1)*theta))**2\n",
    "    if np.random.rand()<prob:\n",
    "        return True, 2+2*j\n",
    "    return False,2+2*j"
   ]
  },
  {
   "cell_type": "code",
   "execution_count": 3,
   "metadata": {},
   "outputs": [],
   "source": [
    "def trial(a,theta):\n",
    "    c = 1.5\n",
    "    total_num = 0\n",
    "    for i in range(1000):\n",
    "        M = math.ceil(c**i)\n",
    "        f,num = one_step(M,a,theta)\n",
    "        total_num += num\n",
    "        if f:\n",
    "            return total_num,True\n",
    "    return total_num,False"
   ]
  },
  {
   "cell_type": "code",
   "execution_count": 4,
   "metadata": {},
   "outputs": [
    {
     "name": "stdout",
     "output_type": "stream",
     "text": [
      "a:0.1 query:5.242\n",
      "a:0.010000000000000002 query:23.829\n",
      "a:0.0010000000000000002 query:90.756\n",
      "a:0.00010000000000000002 query:288.095\n",
      "a:1.0000000000000003e-05 query:919.82\n",
      "a:1.0000000000000004e-06 query:3109.08\n",
      "a:1.0000000000000004e-07 query:9398.868\n",
      "a:1.0000000000000005e-08 query:27975.164\n",
      "a:1.0000000000000005e-09 query:99013.54\n",
      "a:1.0000000000000006e-10 query:281401.802\n"
     ]
    }
   ],
   "source": [
    "a_list = [0.1**(i+1) for i in range(10)]\n",
    "a_list = np.array(a_list)\n",
    "query_classic = 1/a_list\n",
    "query_quantum = np.empty(0)\n",
    "for a in a_list:\n",
    "    sum_query = 0\n",
    "    theta = np.arcsin(np.sqrt(a))\n",
    "    for i in range(1000):\n",
    "        num,f = trial(a,theta)\n",
    "        sum_query += num\n",
    "        if f is False:\n",
    "            print('Fail')\n",
    "    ave = sum_query/1000\n",
    "    print(f'a:{a} query:{ave}')\n",
    "    query_quantum = np.append(query_quantum,ave)"
   ]
  },
  {
   "cell_type": "code",
   "execution_count": 5,
   "metadata": {},
   "outputs": [
    {
     "data": {
      "image/png": "[encoded data removed]",
      "text/plain": [
       "<Figure size 432x288 with 1 Axes>"
      ]
     },
     "metadata": {},
     "output_type": "display_data"
    }
   ],
   "source": [
    "plt.plot(np.log10(query_classic),np.log10(query_quantum))\n",
    "plt.xlabel('classical')\n",
    "plt.ylabel('quantum')\n",
    "#plt.show()\n",
    "plt.savefig('fig1.png')"
   ]
  },
  {
   "cell_type": "code",
   "execution_count": null,
   "metadata": {},
   "outputs": [],
   "source": []
  }
 ],
 "metadata": {
  "kernelspec": {
   "display_name": "Python 3",
   "language": "python",
   "name": "python3"
  },
  "language_info": {
   "codemirror_mode": {
    "name": "ipython",
    "version": 3
   },
   "file_extension": ".py",
   "mimetype": "text/x-python",
   "name": "python",
   "nbconvert_exporter": "python",
   "pygments_lexer": "ipython3",
   "version": "3.6.6"
  }
 },
 "nbformat": 4,
 "nbformat_minor": 2
}
