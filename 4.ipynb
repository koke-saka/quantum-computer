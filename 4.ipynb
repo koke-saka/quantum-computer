{
 "cells": [
  {
   "cell_type": "markdown",
   "metadata": {
    "collapsed": true
   },
   "source": [
    "# 量子フーリエ変換"
   ]
  },
  {
   "cell_type": "code",
   "execution_count": 1,
   "metadata": {},
   "outputs": [],
   "source": [
    "import numpy as np\n",
    "import cmath\n",
    "import matplotlib.pyplot as plt"
   ]
  },
  {
   "cell_type": "code",
   "execution_count": 2,
   "metadata": {},
   "outputs": [],
   "source": [
    "number_of_qubit = 4"
   ]
  },
  {
   "cell_type": "code",
   "execution_count": 3,
   "metadata": {},
   "outputs": [],
   "source": [
    "N=2**number_of_qubit\n",
    "r = 3\n",
    "offset = 0"
   ]
  },
  {
   "cell_type": "markdown",
   "metadata": {},
   "source": [
    "周期とオフセットを設定"
   ]
  },
  {
   "cell_type": "code",
   "execution_count": 4,
   "metadata": {},
   "outputs": [
    {
     "name": "stdout",
     "output_type": "stream",
     "text": [
      "[1. 0. 0. 1. 0. 0. 1. 0. 0. 1. 0. 0. 1. 0. 0. 1.]\n"
     ]
    }
   ],
   "source": [
    "psi = np.zeros(N)\n",
    "for p in range(N):\n",
    "    if r*p + offset > N-1:\n",
    "        break\n",
    "    psi[r*p+offset]=1\n",
    "print(psi)"
   ]
  },
  {
   "cell_type": "markdown",
   "metadata": {},
   "source": [
    "## 量子フーリエ変換行列の作成"
   ]
  },
  {
   "cell_type": "code",
   "execution_count": 5,
   "metadata": {},
   "outputs": [
    {
     "data": {
      "text/plain": [
       "array([[0, 0, 0, 0],\n",
       "       [0, 1, 2, 3],\n",
       "       [0, 2, 4, 6],\n",
       "       [0, 3, 6, 9]])"
      ]
     },
     "execution_count": 5,
     "metadata": {},
     "output_type": "execute_result"
    }
   ],
   "source": [
    "## 指数の肩に対応する行列の作成\n",
    "J_demo=np.arange(4)\n",
    "K_demo=J_demo\n",
    "K_demo.reshape(1,-1)*J_demo.reshape(-1,1)"
   ]
  },
  {
   "cell_type": "code",
   "execution_count": 6,
   "metadata": {},
   "outputs": [
    {
     "name": "stdout",
     "output_type": "stream",
     "text": [
      "[[ 5.00000000e-01+0.0000000e+00j  5.00000000e-01+0.0000000e+00j\n",
      "   5.00000000e-01+0.0000000e+00j  5.00000000e-01+0.0000000e+00j]\n",
      " [ 5.00000000e-01+0.0000000e+00j  3.06161700e-17+5.0000000e-01j\n",
      "  -5.00000000e-01+6.1232340e-17j -9.18485099e-17-5.0000000e-01j]\n",
      " [ 5.00000000e-01+0.0000000e+00j -5.00000000e-01+6.1232340e-17j\n",
      "   5.00000000e-01-1.2246468e-16j -5.00000000e-01+1.8369702e-16j]\n",
      " [ 5.00000000e-01+0.0000000e+00j -9.18485099e-17-5.0000000e-01j\n",
      "  -5.00000000e-01+1.8369702e-16j  2.75545530e-16+5.0000000e-01j]]\n"
     ]
    }
   ],
   "source": [
    "qft = (1/cmath.sqrt(4))*cmath.e**(1j*2*cmath.pi*K_demo.reshape(1,-1)*J_demo.reshape(-1,1)/4)\n",
    "print(qft)"
   ]
  },
  {
   "cell_type": "code",
   "execution_count": 7,
   "metadata": {},
   "outputs": [],
   "source": [
    "J = np.arange(N)\n",
    "K = J"
   ]
  },
  {
   "cell_type": "code",
   "execution_count": 8,
   "metadata": {},
   "outputs": [],
   "source": [
    "qft = (1/cmath.sqrt(N))*cmath.e**(1j*2*cmath.pi*K.reshape(1,-1)*J.reshape(-1,1)/N)"
   ]
  },
  {
   "cell_type": "markdown",
   "metadata": {},
   "source": [
    "## 量子フーリエ変換の実行"
   ]
  },
  {
   "cell_type": "code",
   "execution_count": 9,
   "metadata": {},
   "outputs": [],
   "source": [
    "psi1 = np.dot(qft,psi)"
   ]
  },
  {
   "cell_type": "code",
   "execution_count": 10,
   "metadata": {},
   "outputs": [],
   "source": [
    "amplitude = abs(psi1)\n",
    "amplitude =amplitude**2\n",
    "sigma = np.sum(amplitude)"
   ]
  },
  {
   "cell_type": "code",
   "execution_count": 11,
   "metadata": {
    "scrolled": true
   },
   "outputs": [
    {
     "data": {
      "image/png": "[encoded data removed]",
      "text/plain": [
       "<Figure size 432x288 with 1 Axes>"
      ]
     },
     "metadata": {},
     "output_type": "display_data"
    }
   ],
   "source": [
    "plt.plot(J,amplitude)\n",
    "plt.show()"
   ]
  },
  {
   "cell_type": "markdown",
   "metadata": {},
   "source": [
    "周期$r$の量子状態が周期$\\frac{N}{r}$の量子状態に変わる\n",
    "\n",
    "$\\frac{N}{r}$が割り切れないところは$\\frac{Nk}{r}$に最も近い整数の部分にピークが現れる"
   ]
  },
  {
   "cell_type": "code",
   "execution_count": 12,
   "metadata": {},
   "outputs": [],
   "source": [
    "index =[]\n",
    "for p in range(N):\n",
    "    if (N/r)*p>N-1:\n",
    "        break\n",
    "    index.append(int(round((N/r)*p,0)))"
   ]
  },
  {
   "cell_type": "markdown",
   "metadata": {},
   "source": [
    "$\\frac{N}{r}$が割り切れないときは$\\frac{Nk}{r}$を四捨五入する"
   ]
  },
  {
   "cell_type": "code",
   "execution_count": 13,
   "metadata": {},
   "outputs": [
    {
     "name": "stdout",
     "output_type": "stream",
     "text": [
      "[0, 5, 11]\n",
      "6.000000000000004\n"
     ]
    }
   ],
   "source": [
    "print (index)\n",
    "print (sigma)"
   ]
  },
  {
   "cell_type": "code",
   "execution_count": 14,
   "metadata": {},
   "outputs": [
    {
     "data": {
      "text/plain": [
       "array([0.375     , 0.23360816, 0.23360816])"
      ]
     },
     "execution_count": 14,
     "metadata": {},
     "output_type": "execute_result"
    }
   ],
   "source": [
    "amplitude[index]/sigma"
   ]
  },
  {
   "cell_type": "code",
   "execution_count": 15,
   "metadata": {},
   "outputs": [
    {
     "data": {
      "text/plain": [
       "5.333333333333333"
      ]
     },
     "execution_count": 15,
     "metadata": {},
     "output_type": "execute_result"
    }
   ],
   "source": [
    "16/3"
   ]
  },
  {
   "cell_type": "code",
   "execution_count": null,
   "metadata": {},
   "outputs": [],
   "source": []
  }
 ],
 "metadata": {
  "kernelspec": {
   "display_name": "Python 3",
   "language": "python",
   "name": "python3"
  },
  "language_info": {
   "codemirror_mode": {
    "name": "ipython",
    "version": 3
   },
   "file_extension": ".py",
   "mimetype": "text/x-python",
   "name": "python",
   "nbconvert_exporter": "python",
   "pygments_lexer": "ipython3",
   "version": "3.6.6"
  }
 },
 "nbformat": 4,
 "nbformat_minor": 2
}
