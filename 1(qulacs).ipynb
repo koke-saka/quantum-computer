{
 "cells": [
  {
   "cell_type": "code",
   "execution_count": 1,
   "metadata": {},
   "outputs": [],
   "source": [
    "## Google Colaboratoryの場合\n",
    "#!pip install qulacs"
   ]
  },
  {
   "cell_type": "code",
   "execution_count": 3,
   "metadata": {},
   "outputs": [],
   "source": [
    "from qulacs import QuantumState\n",
    "from qulacs import QuantumCircuit"
   ]
  },
  {
   "cell_type": "markdown",
   "metadata": {},
   "source": [
    "## アダマールゲートの並列で重ね合わせ状態を作る"
   ]
  },
  {
   "cell_type": "code",
   "execution_count": 4,
   "metadata": {},
   "outputs": [],
   "source": [
    "n = 5\n",
    "state = QuantumState(n)\n",
    "state.set_zero_state() #|0>で初期化\n",
    "#state.set_computational_basis(5) #任意の計算基底を指定"
   ]
  },
  {
   "cell_type": "code",
   "execution_count": 5,
   "metadata": {},
   "outputs": [],
   "source": [
    "def H_H():\n",
    "    U = QuantumCircuit(n)\n",
    "    for i in range(n):\n",
    "        U.add_H_gate(i)\n",
    "    \n",
    "    for i in range(n):\n",
    "        U.add_H_gate(i)\n",
    "    return U"
   ]
  },
  {
   "cell_type": "code",
   "execution_count": 6,
   "metadata": {
    "scrolled": true
   },
   "outputs": [
    {
     "name": "stdout",
     "output_type": "stream",
     "text": [
      " *** Quantum State ***\n",
      " * Qubit Count : 5\n",
      " * Dimension   : 32\n",
      " * State vector : \n",
      "(1,0)\n",
      "(0,0)\n",
      "(0,0)\n",
      "(0,0)\n",
      "(0,0)\n",
      "(0,0)\n",
      "(0,0)\n",
      "(0,0)\n",
      "(0,0)\n",
      "(0,0)\n",
      "(0,0)\n",
      "(0,0)\n",
      "(0,0)\n",
      "(0,0)\n",
      "(0,0)\n",
      "(0,0)\n",
      "(0,0)\n",
      "(0,0)\n",
      "(0,0)\n",
      "(0,0)\n",
      "(0,0)\n",
      "(0,0)\n",
      "(0,0)\n",
      "(0,0)\n",
      "(0,0)\n",
      "(0,0)\n",
      "(0,0)\n",
      "(0,0)\n",
      "(0,0)\n",
      "(0,0)\n",
      "(0,0)\n",
      "(0,0)\n",
      "\n"
     ]
    }
   ],
   "source": [
    "# 量子回路を状態に作用\n",
    "circuit=H_H()\n",
    "circuit.update_quantum_state(state)\n",
    "print(state)"
   ]
  },
  {
   "cell_type": "markdown",
   "metadata": {},
   "source": [
    "## ドイチアルゴリズム"
   ]
  },
  {
   "cell_type": "code",
   "execution_count": 7,
   "metadata": {},
   "outputs": [
    {
     "name": "stdout",
     "output_type": "stream",
     "text": [
      " *** Quantum State ***\n",
      " * Qubit Count : 2\n",
      " * Dimension   : 4\n",
      " * State vector : \n",
      "(0,0)\n",
      "(0,0)\n",
      "(1,0)\n",
      "(0,0)\n",
      "\n"
     ]
    }
   ],
   "source": [
    "n=2\n",
    "state = QuantumState(n)\n",
    "state.set_computational_basis(2)\n",
    "print(state)"
   ]
  },
  {
   "cell_type": "code",
   "execution_count": 8,
   "metadata": {},
   "outputs": [],
   "source": [
    "#f(0)=1,f(1)=1\n",
    "def oracle_const():\n",
    "    U = QuantumCircuit(n)\n",
    "    U.add_X_gate(1)\n",
    "    return U\n",
    "\n",
    "#f(0)=0,f(1)=1\n",
    "def oracle_balance():\n",
    "    U =QuantumCircuit(n)\n",
    "    U.add_CNOT_gate(0,1)\n",
    "    return U\n",
    "\n",
    "def H_parallel(n):\n",
    "    U = QuantumCircuit(n)\n",
    "    for i in range(n):\n",
    "        U.add_H_gate(i)\n",
    "    return U"
   ]
  },
  {
   "cell_type": "code",
   "execution_count": 9,
   "metadata": {},
   "outputs": [],
   "source": [
    "#oracle = oracle_const()\n",
    "oracle = oracle_balance()\n",
    "h_parallel = H_parallel(2)"
   ]
  },
  {
   "cell_type": "code",
   "execution_count": 10,
   "metadata": {
    "scrolled": true
   },
   "outputs": [
    {
     "name": "stdout",
     "output_type": "stream",
     "text": [
      " *** Quantum State ***\n",
      " * Qubit Count : 2\n",
      " * Dimension   : 4\n",
      " * State vector : \n",
      " (0.5,0)\n",
      " (0.5,0)\n",
      "(-0.5,0)\n",
      "(-0.5,0)\n",
      "\n",
      " *** Quantum State ***\n",
      " * Qubit Count : 2\n",
      " * Dimension   : 4\n",
      " * State vector : \n",
      " (0.5,0)\n",
      "(-0.5,0)\n",
      "(-0.5,0)\n",
      " (0.5,0)\n",
      "\n",
      " *** Quantum State ***\n",
      " * Qubit Count : 2\n",
      " * Dimension   : 4\n",
      " * State vector : \n",
      "(0,0)\n",
      "(0,0)\n",
      "(0,0)\n",
      "(1,0)\n",
      "\n"
     ]
    }
   ],
   "source": [
    "h_parallel.update_quantum_state(state)\n",
    "print(state)\n",
    "oracle.update_quantum_state(state)\n",
    "print(state)\n",
    "h_parallel.update_quantum_state(state)\n",
    "print(state)"
   ]
  },
  {
   "cell_type": "markdown",
   "metadata": {},
   "source": [
    "## ドイチジョザアルゴリズム"
   ]
  },
  {
   "cell_type": "code",
   "execution_count": null,
   "metadata": {},
   "outputs": [],
   "source": []
  }
 ],
 "metadata": {
  "kernelspec": {
   "display_name": "Qulacs",
   "language": "python",
   "name": "qulacs"
  },
  "language_info": {
   "codemirror_mode": {
    "name": "ipython",
    "version": 3
   },
   "file_extension": ".py",
   "mimetype": "text/x-python",
   "name": "python",
   "nbconvert_exporter": "python",
   "pygments_lexer": "ipython3",
   "version": "3.6.9"
  }
 },
 "nbformat": 4,
 "nbformat_minor": 2
}
